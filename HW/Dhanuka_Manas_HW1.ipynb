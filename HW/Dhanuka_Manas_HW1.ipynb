{
 "cells": [
  {
   "cell_type": "markdown",
   "id": "afad70c0",
   "metadata": {},
   "source": [
    "# Problem 1"
   ]
  },
  {
   "cell_type": "code",
   "execution_count": 1,
   "id": "be834937",
   "metadata": {},
   "outputs": [],
   "source": [
    "class binomial_coefficients:\n",
    "    \n",
    "    def __init__(self):\n",
    "        #defining final array list\n",
    "        self.final_pascal_row=[]\n",
    "                \n",
    "    def get_n(self,n):\n",
    "    \n",
    "        nth_row = [] #list to store nth row of numbers \n",
    "        #cols_nth_row = n+1 #number of columns in a row is n+1\n",
    "        \n",
    "        #for loop to interate over the columns \n",
    "        for col in range(0, n + 1):\n",
    "            nth_row.append(self.get_nk(n,col)) #calling get_nk() and appending values in the empty list\n",
    "        return nth_row\n",
    "               \n",
    "    def get_nk(self, n, k):\n",
    "        \n",
    "        #base case of first and last elements being 1 \n",
    "        if (k == 0 or k == n):\n",
    "            return 1\n",
    "        #applying recursive equation (n,k) = (n-1,k-1) + (n-1,k)\n",
    "        else:\n",
    "            final_nk = self.get_nk(n - 1, k - 1) + self.get_nk(n - 1, k); \n",
    "            return final_nk\n",
    "        \n",
    "        \n",
    "    def save_pt(self, n, file_name=\"pascal_triangle.txt\"):\n",
    "        \n",
    "        if n == 0: # if only a sinlgle row is entered\n",
    "            with open(file_name, \"w\") as final_txtfile:\n",
    "                final_txtfile.write(\"1\")\n",
    "        else:\n",
    "            for row in range(n):\n",
    "                #appending values of nth rows in the list having elements as lists of the nth row  \n",
    "                self.final_pascal_row.append(self.get_n(row))\n",
    "            \n",
    "            with open(file_name, \"w\") as final_txtfile:\n",
    "                \n",
    "                for ind , ele in enumerate(self.final_pascal_row):\n",
    "                    #writing the spaces first to achieve pyramind shape\n",
    "                    for space in range(n - ind):\n",
    "                            final_txtfile.write(\" \")\n",
    "                    for char in ele:\n",
    "                        final_txtfile.write(str(char) + \" \")\n",
    "                    final_txtfile.write(\"\\n\")\n",
    "        \n",
    "        final_txtfile.close()\n",
    "    \n",
    "     "
   ]
  },
  {
   "cell_type": "code",
   "execution_count": 2,
   "id": "673db0c2",
   "metadata": {},
   "outputs": [
    {
     "name": "stdout",
     "output_type": "stream",
     "text": [
      "[[1], [1, 1], [1, 2, 1], [1, 3, 3, 1]]\n"
     ]
    }
   ],
   "source": [
    "obj = binomial_coefficients()\n",
    "obj.save_pt(4)\n",
    "print(obj.final_pascal_row)"
   ]
  },
  {
   "cell_type": "code",
   "execution_count": 3,
   "id": "21cc0892",
   "metadata": {},
   "outputs": [
    {
     "data": {
      "text/plain": [
       "[1, 5, 10, 10, 5, 1]"
      ]
     },
     "execution_count": 3,
     "metadata": {},
     "output_type": "execute_result"
    }
   ],
   "source": [
    "obj.get_n(5)"
   ]
  },
  {
   "cell_type": "code",
   "execution_count": 4,
   "id": "ea06459f",
   "metadata": {},
   "outputs": [
    {
     "data": {
      "text/plain": [
       "10"
      ]
     },
     "execution_count": 4,
     "metadata": {},
     "output_type": "execute_result"
    }
   ],
   "source": [
    "obj.get_nk(5,2)"
   ]
  },
  {
   "cell_type": "markdown",
   "id": "c8da6896",
   "metadata": {},
   "source": [
    "# Problem 2"
   ]
  },
  {
   "cell_type": "code",
   "execution_count": 5,
   "id": "97040edd",
   "metadata": {},
   "outputs": [
    {
     "ename": "FileNotFoundError",
     "evalue": "[Errno 2] No such file or directory: 'v13_map_uniquebyPSN.txt'",
     "output_type": "error",
     "traceback": [
      "\u001b[1;31m---------------------------------------------------------------------------\u001b[0m",
      "\u001b[1;31mFileNotFoundError\u001b[0m                         Traceback (most recent call last)",
      "Cell \u001b[1;32mIn [5], line 2\u001b[0m\n\u001b[0;32m      1\u001b[0m \u001b[39m#object created to open file in read mode \u001b[39;00m\n\u001b[1;32m----> 2\u001b[0m HMBP_content \u001b[39m=\u001b[39m \u001b[39mopen\u001b[39;49m(\u001b[39m'\u001b[39;49m\u001b[39mv13_map_uniquebyPSN.txt\u001b[39;49m\u001b[39m'\u001b[39;49m, \u001b[39m'\u001b[39;49m\u001b[39mr\u001b[39;49m\u001b[39m'\u001b[39;49m)\n\u001b[0;32m      4\u001b[0m \u001b[39m#storing the data in a list\u001b[39;00m\n\u001b[0;32m      5\u001b[0m all_data \u001b[39m=\u001b[39m []\n",
      "\u001b[1;31mFileNotFoundError\u001b[0m: [Errno 2] No such file or directory: 'v13_map_uniquebyPSN.txt'"
     ]
    }
   ],
   "source": [
    "#object created to open file in read mode \n",
    "HMBP_content = open('v13_map_uniquebyPSN.txt', 'r')\n",
    "\n",
    "#storing the data in a list\n",
    "all_data = []\n",
    "for line in HMBP_content:\n",
    "    #removing the tabs and spaces\n",
    "    all_data.append(line.strip().split(\"\\t\"))"
   ]
  },
  {
   "cell_type": "markdown",
   "id": "bbd3b69d",
   "metadata": {},
   "source": [
    "Code to count number of samples for just the first visit"
   ]
  },
  {
   "cell_type": "code",
   "execution_count": null,
   "id": "daca89f0",
   "metadata": {},
   "outputs": [
    {
     "name": "stdout",
     "output_type": "stream",
     "text": [
      "The number of sample for just the first visit is: 1685\n"
     ]
    }
   ],
   "source": [
    "#counting the number of samples available for just the first visit \n",
    "count = 0\n",
    "\n",
    "for i1 in range(1,len(all_data)):\n",
    "    if all_data[i1][2] == '1':\n",
    "        count = count + 1 \n",
    "print(\"The number of sample for just the first visit is:\",count)\n",
    "\n"
   ]
  },
  {
   "cell_type": "markdown",
   "id": "fac751d5",
   "metadata": {},
   "source": [
    "Code to store diffirent body parts and their IDs in diffirent files."
   ]
  },
  {
   "cell_type": "code",
   "execution_count": null,
   "id": "7783ed03",
   "metadata": {},
   "outputs": [],
   "source": [
    "#empty dictionary to store the ID's for each body part\n",
    "sample_id = {}\n",
    "\n",
    "#Looping over the data to store the diffirent body parts as keys in the dictionary\n",
    "for i1 in range(1,len(all_data)):\n",
    "    if all_data[i1][5] not in sample_id:\n",
    "        sample_id[all_data[i1][5]] = []\n",
    "\n",
    "#matching the values to keys in the data set, to get a dictionary with keys and list of ID numbers as the corresponding values\n",
    "for key in sample_id:\n",
    "    for i1 in range(1,len(all_data)):\n",
    "        if all_data[i1][5] == key:\n",
    "            sample_id[key].append(all_data[i1][0])\n",
    "\n",
    "#writing the key value pairs into seperate files\n",
    "for key, value in sample_id.items():\n",
    "    with open(key, \"w\") as id_file:\n",
    "        for ele_id in value:\n",
    "            id_file.write(ele_id)\n",
    "            id_file.write(\"\\n\")\n",
    "        "
   ]
  }
 ],
 "metadata": {
  "kernelspec": {
   "display_name": "Python 3.8.8 ('base')",
   "language": "python",
   "name": "python3"
  },
  "language_info": {
   "codemirror_mode": {
    "name": "ipython",
    "version": 3
   },
   "file_extension": ".py",
   "mimetype": "text/x-python",
   "name": "python",
   "nbconvert_exporter": "python",
   "pygments_lexer": "ipython3",
   "version": "3.8.8"
  },
  "vscode": {
   "interpreter": {
    "hash": "58544ced29f0d0ccc90b78766d7e805897dc369e996e4fcba52aba46a973bc61"
   }
  }
 },
 "nbformat": 4,
 "nbformat_minor": 5
}
